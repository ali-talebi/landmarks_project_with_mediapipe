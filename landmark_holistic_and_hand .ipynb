{
 "cells": [
  {
   "cell_type": "code",
   "execution_count": 1,
   "metadata": {},
   "outputs": [],
   "source": [
    "import cv2 ### open-cv \n",
    "import mediapipe as mp \n",
    "import time "
   ]
  },
  {
   "cell_type": "markdown",
   "metadata": {},
   "source": [
    "you can see \"\"\"MediaPipe Solutions Python API.\"\"\"\n",
    "\n",
    "this code : mp.solutions?? \n",
    "\n",
    "'''\n",
    "import mediapipe.python.solutions.drawing_styles\n",
    "\n",
    "import mediapipe.python.solutions.drawing_utils\n",
    "\n",
    "import mediapipe.python.solutions.face_detection\n",
    "\n",
    "import mediapipe.python.solutions.face_mesh\n",
    "\n",
    "import mediapipe.python.solutions.face_mesh_connections\n",
    "\n",
    "import mediapipe.python.solutions.hands\n",
    "\n",
    "import mediapipe.python.solutions.hands_connections\n",
    "\n",
    "import mediapipe.python.solutions.holistic\n",
    "\n",
    "import mediapipe.python.solutions.objectron\n",
    "\n",
    "import mediapipe.python.solutions.pose\n",
    "\n",
    "import mediapipe.python.solutions.selfie_segmentation\n",
    "'''"
   ]
  },
  {
   "cell_type": "code",
   "execution_count": 11,
   "metadata": {},
   "outputs": [],
   "source": [
    "mphand = mp.solutions.hands\n",
    "Hand = mphand.Hands() ### for hand \n",
    "mpDrow = mp.solutions.drawing_utils ### this type is Module \n",
    "mphlostic = mp.solutions.holistic ## for holistic \n",
    "Holistic = mphlostic.Holistic()"
   ]
  },
  {
   "cell_type": "code",
   "execution_count": 22,
   "metadata": {},
   "outputs": [],
   "source": [
    "cap = cv2.VideoCapture(1)\n",
    "\n",
    "while True : \n",
    "    ret  , frame = cap.read()\n",
    "    ## here change chanel from BGR to RGB because mediapipe work with RGB \n",
    "    rgbframe = cv2.cvtColor(frame , cv2.COLOR_BGR2RGB)\n",
    "    ## here pass RGB frame to prcocess function \n",
    "    result = Hand.process(rgbframe)\n",
    "    ## this if examine that result not empty \n",
    "    ## result.multi_hand_landmarks : is total landmark hand \n",
    "    if result.multi_hand_landmarks : \n",
    "        ## this loop for [(x1,y1,z1) , .... , (xn,yn ,zn) ]\n",
    "        for lms in result.multi_hand_landmarks : \n",
    "            ## here draw landmark on frame \n",
    "            ## mphand.HAND_CONNECTIONS : is for connection between landmarks hand \n",
    "            mpDrow.draw_landmarks(frame , lms  , mphand.HAND_CONNECTIONS )\n",
    "       \n",
    "\n",
    "    ### here another way to draw landmark \n",
    "    ### pass rgbframe to holistic process that before create holistic object \n",
    "    result_hlostic = Holistic.process(rgbframe)\n",
    "    ## here draw pose landmark on frame \n",
    "    mpDrow.draw_landmarks(frame, result_hlostic.pose_landmarks , mphlostic.POSE_CONNECTIONS)\n",
    "    mpDrow.draw_landmarks(frame, result_hlostic.pose_world_landmarks , mphlostic.POSE_CONNECTIONS)\n",
    "    ## here draw face landmark on frame \n",
    "    mpDrow.draw_landmarks(frame, result_hlostic.face_landmarks , mphlostic.POSE_CONNECTIONS)\n",
    "\n",
    "            \n",
    "            \n",
    "    cv2.imshow('camera 1 : ' , frame  )\n",
    "    if cv2.waitKey(1) == ord('q') : \n",
    "        break\n",
    "\n",
    "cv2.destroyAllWindows()\n",
    "cap.release()\n"
   ]
  },
  {
   "cell_type": "code",
   "execution_count": null,
   "metadata": {},
   "outputs": [],
   "source": [
    "## you can see mp.solution property \n",
    "mp.solutions??"
   ]
  },
  {
   "cell_type": "code",
   "execution_count": 19,
   "metadata": {},
   "outputs": [],
   "source": [
    "Holistic??"
   ]
  },
  {
   "cell_type": "code",
   "execution_count": 17,
   "metadata": {},
   "outputs": [],
   "source": [
    "mphlostic??"
   ]
  },
  {
   "cell_type": "code",
   "execution_count": 5,
   "metadata": {},
   "outputs": [],
   "source": [
    "Pose??"
   ]
  },
  {
   "cell_type": "code",
   "execution_count": 5,
   "metadata": {},
   "outputs": [],
   "source": [
    "??mphand "
   ]
  },
  {
   "cell_type": "code",
   "execution_count": 21,
   "metadata": {},
   "outputs": [],
   "source": [
    "??mpDrow"
   ]
  },
  {
   "cell_type": "code",
   "execution_count": null,
   "metadata": {},
   "outputs": [],
   "source": []
  },
  {
   "cell_type": "code",
   "execution_count": null,
   "metadata": {},
   "outputs": [],
   "source": []
  },
  {
   "cell_type": "code",
   "execution_count": null,
   "metadata": {},
   "outputs": [],
   "source": []
  },
  {
   "cell_type": "code",
   "execution_count": null,
   "metadata": {},
   "outputs": [],
   "source": []
  },
  {
   "cell_type": "code",
   "execution_count": null,
   "metadata": {},
   "outputs": [],
   "source": []
  },
  {
   "cell_type": "code",
   "execution_count": null,
   "metadata": {},
   "outputs": [],
   "source": []
  },
  {
   "cell_type": "code",
   "execution_count": null,
   "metadata": {},
   "outputs": [],
   "source": []
  },
  {
   "cell_type": "code",
   "execution_count": null,
   "metadata": {},
   "outputs": [],
   "source": []
  }
 ],
 "metadata": {
  "kernelspec": {
   "display_name": "Python 3",
   "language": "python",
   "name": "python3"
  },
  "language_info": {
   "codemirror_mode": {
    "name": "ipython",
    "version": 3
   },
   "file_extension": ".py",
   "mimetype": "text/x-python",
   "name": "python",
   "nbconvert_exporter": "python",
   "pygments_lexer": "ipython3",
   "version": "3.8.5"
  },
  "varInspector": {
   "cols": {
    "lenName": 16,
    "lenType": 16,
    "lenVar": 40
   },
   "kernels_config": {
    "python": {
     "delete_cmd_postfix": "",
     "delete_cmd_prefix": "del ",
     "library": "var_list.py",
     "varRefreshCmd": "print(var_dic_list())"
    },
    "r": {
     "delete_cmd_postfix": ") ",
     "delete_cmd_prefix": "rm(",
     "library": "var_list.r",
     "varRefreshCmd": "cat(var_dic_list()) "
    }
   },
   "types_to_exclude": [
    "module",
    "function",
    "builtin_function_or_method",
    "instance",
    "_Feature"
   ],
   "window_display": false
  }
 },
 "nbformat": 4,
 "nbformat_minor": 4
}
